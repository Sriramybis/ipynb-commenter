{
 "cells": [
  {
   "cell_type": "markdown",
   "id": "2e12778a",
   "metadata": {},
   "source": [
    "# Importing Libraries for Data Analysis and Visualization\n",
    "## Introduction to Essential Packages\n",
    "\n",
    "This code block demonstrates the importation of three essential libraries for data analysis and visualization in Python: pandas, NumPy, and Matplotlib. These libraries are widely used in various domains such as scientific computing, machine learning, and data science.\n",
    "\n",
    "### Code:\n",
    "```\n",
    "import pandas as pd\n",
    "import numpy as np\n",
    "import matplotlib as plt\n",
    "```\n",
    "\n",
    "In this code block:\n",
    "\n",
    "* The `pandas` library is imported with the alias `pd`. Pandas provides data structures and functions to efficiently handle structured data, including tabular data such as spreadsheets and SQL tables.\n",
    "* The `NumPy` library is imported with no alias. NumPy provides support for large, multi-dimensional arrays and matrices, and is the foundation of most scientific computing in Python.\n",
    "* The `Matplotlib` library is imported with the alias `plt`. Matplotlib is a plotting library for creating static, animated, and interactive visualizations in python.\n",
    "\n",
    "These libraries are essential tools for any data analyst or scientist working in Python, and this code block demonstrates the initial step of importing them into a project."
   ]
  },
  {
   "cell_type": "code",
   "execution_count": 18,
   "id": "edac66fa",
   "metadata": {},
   "outputs": [],
   "source": [
    "import pandas as pd\n",
    "import numpy as np\n",
    "import matplotlib as plt"
   ]
  },
  {
   "cell_type": "markdown",
   "id": "76910874",
   "metadata": {},
   "source": [
    "# Pandas Dataframe Manipulation\n",
    "## Loading and Viewing a CSV File\n",
    "\n",
    "This code block demonstrates how to load a comma-separated values (CSV) file into a Pandas dataframe and view the first few rows of the data.\n",
    "\n",
    "Code:\n",
    "```\n",
    "df = pd.read_csv('WA_Fn-UseC_-Telco-Customer-Churn.csv')\n",
    "df.head()\n",
    "```\n",
    "\n",
    "Explanation:\n",
    "\n",
    "* `pd.read_csv` is used to load the CSV file named 'WA_Fn-UseC_-Telco-Customer-Churn.csv' into a Pandas dataframe. The file path is provided as an argument to the function.\n",
    "* The resulting dataframe is stored in the variable `df`.\n",
    "* `df.head()` is used to view the first few rows of the dataframe, providing a quick glance at the data.\n",
    "\n",
    "This code provides a simple example of how to load and explore a CSV file using Pandas."
   ]
  },
  {
   "cell_type": "code",
   "execution_count": 19,
   "id": "5e47ffb6",
   "metadata": {},
   "outputs": [
    {
     "data": {
      "text/html": [
       "<div>\n",
       "<style scoped>\n",
       "    .dataframe tbody tr th:only-of-type {\n",
       "        vertical-align: middle;\n",
       "    }\n",
       "\n",
       "    .dataframe tbody tr th {\n",
       "        vertical-align: top;\n",
       "    }\n",
       "\n",
       "    .dataframe thead th {\n",
       "        text-align: right;\n",
       "    }\n",
       "</style>\n",
       "<table border=\"1\" class=\"dataframe\">\n",
       "  <thead>\n",
       "    <tr style=\"text-align: right;\">\n",
       "      <th></th>\n",
       "      <th>customerID</th>\n",
       "      <th>gender</th>\n",
       "      <th>SeniorCitizen</th>\n",
       "      <th>Partner</th>\n",
       "      <th>Dependents</th>\n",
       "      <th>tenure</th>\n",
       "      <th>PhoneService</th>\n",
       "      <th>MultipleLines</th>\n",
       "      <th>InternetService</th>\n",
       "      <th>OnlineSecurity</th>\n",
       "      <th>...</th>\n",
       "      <th>DeviceProtection</th>\n",
       "      <th>TechSupport</th>\n",
       "      <th>StreamingTV</th>\n",
       "      <th>StreamingMovies</th>\n",
       "      <th>Contract</th>\n",
       "      <th>PaperlessBilling</th>\n",
       "      <th>PaymentMethod</th>\n",
       "      <th>MonthlyCharges</th>\n",
       "      <th>TotalCharges</th>\n",
       "      <th>Churn</th>\n",
       "    </tr>\n",
       "  </thead>\n",
       "  <tbody>\n",
       "    <tr>\n",
       "      <th>0</th>\n",
       "      <td>7590-VHVEG</td>\n",
       "      <td>Female</td>\n",
       "      <td>0</td>\n",
       "      <td>Yes</td>\n",
       "      <td>No</td>\n",
       "      <td>1</td>\n",
       "      <td>No</td>\n",
       "      <td>No phone service</td>\n",
       "      <td>DSL</td>\n",
       "      <td>No</td>\n",
       "      <td>...</td>\n",
       "      <td>No</td>\n",
       "      <td>No</td>\n",
       "      <td>No</td>\n",
       "      <td>No</td>\n",
       "      <td>Month-to-month</td>\n",
       "      <td>Yes</td>\n",
       "      <td>Electronic check</td>\n",
       "      <td>29.85</td>\n",
       "      <td>29.85</td>\n",
       "      <td>No</td>\n",
       "    </tr>\n",
       "    <tr>\n",
       "      <th>1</th>\n",
       "      <td>5575-GNVDE</td>\n",
       "      <td>Male</td>\n",
       "      <td>0</td>\n",
       "      <td>No</td>\n",
       "      <td>No</td>\n",
       "      <td>34</td>\n",
       "      <td>Yes</td>\n",
       "      <td>No</td>\n",
       "      <td>DSL</td>\n",
       "      <td>Yes</td>\n",
       "      <td>...</td>\n",
       "      <td>Yes</td>\n",
       "      <td>No</td>\n",
       "      <td>No</td>\n",
       "      <td>No</td>\n",
       "      <td>One year</td>\n",
       "      <td>No</td>\n",
       "      <td>Mailed check</td>\n",
       "      <td>56.95</td>\n",
       "      <td>1889.5</td>\n",
       "      <td>No</td>\n",
       "    </tr>\n",
       "    <tr>\n",
       "      <th>2</th>\n",
       "      <td>3668-QPYBK</td>\n",
       "      <td>Male</td>\n",
       "      <td>0</td>\n",
       "      <td>No</td>\n",
       "      <td>No</td>\n",
       "      <td>2</td>\n",
       "      <td>Yes</td>\n",
       "      <td>No</td>\n",
       "      <td>DSL</td>\n",
       "      <td>Yes</td>\n",
       "      <td>...</td>\n",
       "      <td>No</td>\n",
       "      <td>No</td>\n",
       "      <td>No</td>\n",
       "      <td>No</td>\n",
       "      <td>Month-to-month</td>\n",
       "      <td>Yes</td>\n",
       "      <td>Mailed check</td>\n",
       "      <td>53.85</td>\n",
       "      <td>108.15</td>\n",
       "      <td>Yes</td>\n",
       "    </tr>\n",
       "    <tr>\n",
       "      <th>3</th>\n",
       "      <td>7795-CFOCW</td>\n",
       "      <td>Male</td>\n",
       "      <td>0</td>\n",
       "      <td>No</td>\n",
       "      <td>No</td>\n",
       "      <td>45</td>\n",
       "      <td>No</td>\n",
       "      <td>No phone service</td>\n",
       "      <td>DSL</td>\n",
       "      <td>Yes</td>\n",
       "      <td>...</td>\n",
       "      <td>Yes</td>\n",
       "      <td>Yes</td>\n",
       "      <td>No</td>\n",
       "      <td>No</td>\n",
       "      <td>One year</td>\n",
       "      <td>No</td>\n",
       "      <td>Bank transfer (automatic)</td>\n",
       "      <td>42.30</td>\n",
       "      <td>1840.75</td>\n",
       "      <td>No</td>\n",
       "    </tr>\n",
       "    <tr>\n",
       "      <th>4</th>\n",
       "      <td>9237-HQITU</td>\n",
       "      <td>Female</td>\n",
       "      <td>0</td>\n",
       "      <td>No</td>\n",
       "      <td>No</td>\n",
       "      <td>2</td>\n",
       "      <td>Yes</td>\n",
       "      <td>No</td>\n",
       "      <td>Fiber optic</td>\n",
       "      <td>No</td>\n",
       "      <td>...</td>\n",
       "      <td>No</td>\n",
       "      <td>No</td>\n",
       "      <td>No</td>\n",
       "      <td>No</td>\n",
       "      <td>Month-to-month</td>\n",
       "      <td>Yes</td>\n",
       "      <td>Electronic check</td>\n",
       "      <td>70.70</td>\n",
       "      <td>151.65</td>\n",
       "      <td>Yes</td>\n",
       "    </tr>\n",
       "  </tbody>\n",
       "</table>\n",
       "<p>5 rows × 21 columns</p>\n",
       "</div>"
      ],
      "text/plain": [
       "   customerID  gender  SeniorCitizen Partner Dependents  tenure PhoneService  \\\n",
       "0  7590-VHVEG  Female              0     Yes         No       1           No   \n",
       "1  5575-GNVDE    Male              0      No         No      34          Yes   \n",
       "2  3668-QPYBK    Male              0      No         No       2          Yes   \n",
       "3  7795-CFOCW    Male              0      No         No      45           No   \n",
       "4  9237-HQITU  Female              0      No         No       2          Yes   \n",
       "\n",
       "      MultipleLines InternetService OnlineSecurity  ... DeviceProtection  \\\n",
       "0  No phone service             DSL             No  ...               No   \n",
       "1                No             DSL            Yes  ...              Yes   \n",
       "2                No             DSL            Yes  ...               No   \n",
       "3  No phone service             DSL            Yes  ...              Yes   \n",
       "4                No     Fiber optic             No  ...               No   \n",
       "\n",
       "  TechSupport StreamingTV StreamingMovies        Contract PaperlessBilling  \\\n",
       "0          No          No              No  Month-to-month              Yes   \n",
       "1          No          No              No        One year               No   \n",
       "2          No          No              No  Month-to-month              Yes   \n",
       "3         Yes          No              No        One year               No   \n",
       "4          No          No              No  Month-to-month              Yes   \n",
       "\n",
       "               PaymentMethod MonthlyCharges  TotalCharges Churn  \n",
       "0           Electronic check          29.85         29.85    No  \n",
       "1               Mailed check          56.95        1889.5    No  \n",
       "2               Mailed check          53.85        108.15   Yes  \n",
       "3  Bank transfer (automatic)          42.30       1840.75    No  \n",
       "4           Electronic check          70.70        151.65   Yes  \n",
       "\n",
       "[5 rows x 21 columns]"
      ]
     },
     "execution_count": 19,
     "metadata": {},
     "output_type": "execute_result"
    }
   ],
   "source": [
    "df = pd.read_csv('WA_Fn-UseC_-Telco-Customer-Churn.csv')\n",
    "df.head()"
   ]
  },
  {
   "cell_type": "markdown",
   "id": "c598f9f4",
   "metadata": {},
   "source": [
    "# Exploring DataFrames - Columns\n",
    "\n",
    "## Understanding DataFrame Columns\n",
    "\n",
    "When working with Pandas DataFrames, it's essential to understand how to access and manipulate the columns. In this example, we'll explore the `columns` attribute of a DataFrame.\n",
    "\n",
    "### Code:\n",
    "\n",
    "```\n",
    "df.columns\n",
    "```\n",
    "\n",
    "In this code block, `df` is a Pandas DataFrame object. The `columns` attribute returns a view of the column labels (indices) in the DataFrame. This can be useful for inspecting the columns, renaming them, or even selecting specific columns to work with.\n",
    "\n",
    "### Explanation:\n",
    "\n",
    "The `columns` attribute provides a list-like interface that allows you to access and manipulate the column names in your DataFrame. By calling `df.columns`, you can see the list of column labels, which are typically strings representing the column headers.\n",
    "\n",
    "For example, if your DataFrame has columns named \"Name\", \"Age\", and \"Country\", the output would be:\n",
    "\n",
    "```\n",
    "Index(['Name', 'Age', 'Country'], dtype='object')\n",
    "```\n",
    "\n",
    "From here, you can use various methods to rename, select, or reorder the columns, making it easier to work with your data."
   ]
  },
  {
   "cell_type": "code",
   "execution_count": 20,
   "id": "b85b9979",
   "metadata": {},
   "outputs": [
    {
     "data": {
      "text/plain": [
       "Index(['customerID', 'gender', 'SeniorCitizen', 'Partner', 'Dependents',\n",
       "       'tenure', 'PhoneService', 'MultipleLines', 'InternetService',\n",
       "       'OnlineSecurity', 'OnlineBackup', 'DeviceProtection', 'TechSupport',\n",
       "       'StreamingTV', 'StreamingMovies', 'Contract', 'PaperlessBilling',\n",
       "       'PaymentMethod', 'MonthlyCharges', 'TotalCharges', 'Churn'],\n",
       "      dtype='object')"
      ]
     },
     "execution_count": 20,
     "metadata": {},
     "output_type": "execute_result"
    }
   ],
   "source": [
    "df.columns"
   ]
  },
  {
   "cell_type": "markdown",
   "id": "99c2f0af",
   "metadata": {},
   "source": [
    "# DataFrame Summary Statistics\n",
    "## Understanding the describe() Method\n",
    "\n",
    "The `describe()` method is a powerful tool for gaining insights into your pandas DataFrame. It provides a summary of statistical measures and counts for each column in the DataFrame.\n",
    "\n",
    "### Code:\n",
    "\n",
    "```\n",
    "df.describe()\n",
    "```\n",
    "\n",
    "When you call `describe()` on a DataFrame, it will output a table with the following statistics:\n",
    "\n",
    "- `count`: The number of non-null values in each column.\n",
    "- `mean`: The mean value for each column.\n",
    "- `std`: The standard deviation for each column.\n",
    "- `min`: The minimum value for each column.\n",
    "- `25%`: The 25th percentile (also known as the first quartile, or Q1).\n",
    "- `50%`: The 50th percentile (also known as the median, or Q2).\n",
    "- `75%`: The 75th percentile (also known as the third quartile, or Q3).\n",
    "- `max`: The maximum value for each column.\n",
    "\n",
    "This summary provides a quick and easy way to get a sense of your data's distribution and identify any potential issues, such as missing values or outliers."
   ]
  },
  {
   "cell_type": "code",
   "execution_count": 21,
   "id": "a2337f54",
   "metadata": {},
   "outputs": [
    {
     "data": {
      "text/html": [
       "<div>\n",
       "<style scoped>\n",
       "    .dataframe tbody tr th:only-of-type {\n",
       "        vertical-align: middle;\n",
       "    }\n",
       "\n",
       "    .dataframe tbody tr th {\n",
       "        vertical-align: top;\n",
       "    }\n",
       "\n",
       "    .dataframe thead th {\n",
       "        text-align: right;\n",
       "    }\n",
       "</style>\n",
       "<table border=\"1\" class=\"dataframe\">\n",
       "  <thead>\n",
       "    <tr style=\"text-align: right;\">\n",
       "      <th></th>\n",
       "      <th>SeniorCitizen</th>\n",
       "      <th>tenure</th>\n",
       "      <th>MonthlyCharges</th>\n",
       "    </tr>\n",
       "  </thead>\n",
       "  <tbody>\n",
       "    <tr>\n",
       "      <th>count</th>\n",
       "      <td>7043.000000</td>\n",
       "      <td>7043.000000</td>\n",
       "      <td>7043.000000</td>\n",
       "    </tr>\n",
       "    <tr>\n",
       "      <th>mean</th>\n",
       "      <td>0.162147</td>\n",
       "      <td>32.371149</td>\n",
       "      <td>64.761692</td>\n",
       "    </tr>\n",
       "    <tr>\n",
       "      <th>std</th>\n",
       "      <td>0.368612</td>\n",
       "      <td>24.559481</td>\n",
       "      <td>30.090047</td>\n",
       "    </tr>\n",
       "    <tr>\n",
       "      <th>min</th>\n",
       "      <td>0.000000</td>\n",
       "      <td>0.000000</td>\n",
       "      <td>18.250000</td>\n",
       "    </tr>\n",
       "    <tr>\n",
       "      <th>25%</th>\n",
       "      <td>0.000000</td>\n",
       "      <td>9.000000</td>\n",
       "      <td>35.500000</td>\n",
       "    </tr>\n",
       "    <tr>\n",
       "      <th>50%</th>\n",
       "      <td>0.000000</td>\n",
       "      <td>29.000000</td>\n",
       "      <td>70.350000</td>\n",
       "    </tr>\n",
       "    <tr>\n",
       "      <th>75%</th>\n",
       "      <td>0.000000</td>\n",
       "      <td>55.000000</td>\n",
       "      <td>89.850000</td>\n",
       "    </tr>\n",
       "    <tr>\n",
       "      <th>max</th>\n",
       "      <td>1.000000</td>\n",
       "      <td>72.000000</td>\n",
       "      <td>118.750000</td>\n",
       "    </tr>\n",
       "  </tbody>\n",
       "</table>\n",
       "</div>"
      ],
      "text/plain": [
       "       SeniorCitizen       tenure  MonthlyCharges\n",
       "count    7043.000000  7043.000000     7043.000000\n",
       "mean        0.162147    32.371149       64.761692\n",
       "std         0.368612    24.559481       30.090047\n",
       "min         0.000000     0.000000       18.250000\n",
       "25%         0.000000     9.000000       35.500000\n",
       "50%         0.000000    29.000000       70.350000\n",
       "75%         0.000000    55.000000       89.850000\n",
       "max         1.000000    72.000000      118.750000"
      ]
     },
     "execution_count": 21,
     "metadata": {},
     "output_type": "execute_result"
    }
   ],
   "source": [
    "df.describe()"
   ]
  },
  {
   "cell_type": "markdown",
   "id": "c3cce116",
   "metadata": {},
   "source": [
    "# Exploring Missing Data in Pandas DataFrame\n",
    "## Visualizing Missing Values\n",
    "\n",
    "The `missingno` library is used to visualize and explore missing data patterns in a Pandas DataFrame. This code block demonstrates how to use the `matrix` function from `missingno` to create an interactive heatmap that highlights the distribution of missing values in a given DataFrame.\n",
    "\n",
    "Code:\n",
    "```python\n",
    "import missingno as msno\n",
    "msno.matrix(df)\n",
    "```\n",
    "\n",
    "In this example, replace `df` with your actual Pandas DataFrame. The resulting heatmap will display the number of missing values for each column, allowing you to quickly identify patterns and outliers in your data."
   ]
  },
  {
   "cell_type": "code",
   "execution_count": 22,
   "id": "6baacf5e",
   "metadata": {},
   "outputs": [
    {
     "data": {
      "text/plain": [
       "<Axes: >"
      ]
     },
     "execution_count": 22,
     "metadata": {},
     "output_type": "execute_result"
    },
    {
     "data": {
      "image/png": "[encoded data removed]",
      "text/plain": [
       "<Figure size 2500x1000 with 2 Axes>"
      ]
     },
     "metadata": {},
     "output_type": "display_data"
    }
   ],
   "source": [
    "import missingno as msno\n",
    "msno.matrix(df)"
   ]
  },
  {
   "cell_type": "markdown",
   "id": "12811523",
   "metadata": {},
   "source": [
    "# Handling Missing Values in Pandas DataFrames\n",
    "## Identifying Missing Values using `isnull()` and `sum()`\n",
    "\n",
    "In this example, we're using the `isnull()` method to identify missing values (NaN) in a Pandas DataFrame. The `sum()` method is then used to count the total number of missing values.\n",
    "\n",
    "Code:\n",
    "```\n",
    "df.isnull().sum()\n",
    "```\n",
    "\n",
    "The `isnull()` method returns a boolean mask indicating which elements in the DataFrame are NaN. When applied to the entire DataFrame, it returns a new DataFrame with the same shape as the original, where each element is either True (indicating a NaN value) or False (indicating a non-NaN value).\n",
    "\n",
    "By chaining the `isnull()` method with the `sum()` method, we get a Series containing the count of missing values for each column. This allows us to quickly identify which columns contain missing data and how many records are affected.\n",
    "\n",
    "This is a useful step in data preprocessing when working with datasets that may have incomplete or missing information."
   ]
  },
  {
   "cell_type": "code",
   "execution_count": 23,
   "id": "f18235cc",
   "metadata": {},
   "outputs": [
    {
     "data": {
      "text/plain": [
       "customerID          0\n",
       "gender              0\n",
       "SeniorCitizen       0\n",
       "Partner             0\n",
       "Dependents          0\n",
       "tenure              0\n",
       "PhoneService        0\n",
       "MultipleLines       0\n",
       "InternetService     0\n",
       "OnlineSecurity      0\n",
       "OnlineBackup        0\n",
       "DeviceProtection    0\n",
       "TechSupport         0\n",
       "StreamingTV         0\n",
       "StreamingMovies     0\n",
       "Contract            0\n",
       "PaperlessBilling    0\n",
       "PaymentMethod       0\n",
       "MonthlyCharges      0\n",
       "TotalCharges        0\n",
       "Churn               0\n",
       "dtype: int64"
      ]
     },
     "execution_count": 23,
     "metadata": {},
     "output_type": "execute_result"
    }
   ],
   "source": [
    "df.isnull().sum()"
   ]
  },
  {
   "cell_type": "markdown",
   "id": "d2d19463",
   "metadata": {},
   "source": [
    "# Identifying Duplicate Rows in Pandas DataFrame\n",
    "\n",
    "## What is Duplicate Detection?\n",
    "\n",
    "Duplicate detection is a common problem in data preprocessing where you want to identify duplicate rows in your dataset. In this case, we are using the `duplicated()` function from pandas to find duplicate rows in our dataframe and then summing them up.\n",
    "\n",
    "## Code Explanation:\n",
    "\n",
    "Code:\n",
    "```python\n",
    "df.duplicated().sum()\n",
    "```\n",
    "\n",
    "This line of code does the following:\n",
    "\n",
    "1. `df.duplicated()`: This function identifies duplicate rows in your dataframe. It returns a boolean mask where each row is marked as True if it's a duplicate and False otherwise.\n",
    "2. `.sum()`: The `sum()` method then counts the number of duplicates found, giving you the total count.\n",
    "\n",
    "## Example:\n",
    "\n",
    "Suppose we have a simple dataframe with names and ages:\n",
    "\n",
    "```\n",
    "    name  age\n",
    "0   John  30\n",
    "1   Jane  25\n",
    "2   John  30\n",
    "3   Mary  31\n",
    "4   Jane  25\n",
    "5   Mary  31\n",
    "```\n",
    "\n",
    "If we run the code `df.duplicated().sum()`, it will return `2` because there are two duplicate rows: one for \"John\" with age 30 and another for \"Mary\" with age 31."
   ]
  },
  {
   "cell_type": "code",
   "execution_count": 24,
   "id": "32714ec7",
   "metadata": {},
   "outputs": [
    {
     "data": {
      "text/plain": [
       "0"
      ]
     },
     "execution_count": 24,
     "metadata": {},
     "output_type": "execute_result"
    }
   ],
   "source": [
    "df.duplicated().sum()"
   ]
  },
  {
   "cell_type": "markdown",
   "id": "d9f1a645",
   "metadata": {},
   "source": [
    "# pandas DataFrame Information\n",
    "## Overview of DataFrame Properties\n",
    "\n",
    "The `info()` method in pandas provides an overview of the properties and statistics of a given DataFrame. This is useful for understanding the structure and characteristics of your data.\n",
    "\n",
    "Code:\n",
    "```\n",
    "df.info()\n",
    "```"
   ]
  },
  {
   "cell_type": "code",
   "execution_count": 25,
   "id": "02e50978",
   "metadata": {},
   "outputs": [
    {
     "name": "stdout",
     "output_type": "stream",
     "text": [
      "<class 'pandas.core.frame.DataFrame'>\n",
      "RangeIndex: 7043 entries, 0 to 7042\n",
      "Data columns (total 21 columns):\n",
      " #   Column            Non-Null Count  Dtype  \n",
      "---  ------            --------------  -----  \n",
      " 0   customerID        7043 non-null   object \n",
      " 1   gender            7043 non-null   object \n",
      " 2   SeniorCitizen     7043 non-null   int64  \n",
      " 3   Partner           7043 non-null   object \n",
      " 4   Dependents        7043 non-null   object \n",
      " 5   tenure            7043 non-null   int64  \n",
      " 6   PhoneService      7043 non-null   object \n",
      " 7   MultipleLines     7043 non-null   object \n",
      " 8   InternetService   7043 non-null   object \n",
      " 9   OnlineSecurity    7043 non-null   object \n",
      " 10  OnlineBackup      7043 non-null   object \n",
      " 11  DeviceProtection  7043 non-null   object \n",
      " 12  TechSupport       7043 non-null   object \n",
      " 13  StreamingTV       7043 non-null   object \n",
      " 14  StreamingMovies   7043 non-null   object \n",
      " 15  Contract          7043 non-null   object \n",
      " 16  PaperlessBilling  7043 non-null   object \n",
      " 17  PaymentMethod     7043 non-null   object \n",
      " 18  MonthlyCharges    7043 non-null   float64\n",
      " 19  TotalCharges      7043 non-null   object \n",
      " 20  Churn             7043 non-null   object \n",
      "dtypes: float64(1), int64(2), object(18)\n",
      "memory usage: 1.1+ MB\n"
     ]
    }
   ],
   "source": [
    "df.info()"
   ]
  },
  {
   "cell_type": "markdown",
   "id": "70150cf8",
   "metadata": {},
   "source": [
    "# Unique Values in a Pandas DataFrame\n",
    "## Counting Non-Null and Non-Duplicate Values\n",
    "\n",
    "The `nunique()` function is used to count the number of unique elements in each column of a pandas DataFrame. This function only considers non-null values when calculating uniqueness.\n",
    "\n",
    "Code:\n",
    "```\n",
    "df.nunique()\n",
    "```"
   ]
  },
  {
   "cell_type": "code",
   "execution_count": 26,
   "id": "474b9571",
   "metadata": {},
   "outputs": [
    {
     "data": {
      "text/plain": [
       "customerID          7043\n",
       "gender                 2\n",
       "SeniorCitizen          2\n",
       "Partner                2\n",
       "Dependents             2\n",
       "tenure                73\n",
       "PhoneService           2\n",
       "MultipleLines          3\n",
       "InternetService        3\n",
       "OnlineSecurity         3\n",
       "OnlineBackup           3\n",
       "DeviceProtection       3\n",
       "TechSupport            3\n",
       "StreamingTV            3\n",
       "StreamingMovies        3\n",
       "Contract               3\n",
       "PaperlessBilling       2\n",
       "PaymentMethod          4\n",
       "MonthlyCharges      1585\n",
       "TotalCharges        6531\n",
       "Churn                  2\n",
       "dtype: int64"
      ]
     },
     "execution_count": 26,
     "metadata": {},
     "output_type": "execute_result"
    }
   ],
   "source": [
    "df.nunique()"
   ]
  },
  {
   "cell_type": "markdown",
   "id": "91bd4e62",
   "metadata": {},
   "source": [
    "# Analyzing Categories in Streaming Data\n",
    "## Overview of Streaming Platforms\n",
    "\n",
    "This code block is used to analyze the unique categories present in two columns, `StreamingTV` and `StreamingMovies`, in a Pandas DataFrame (`df`). The output provides an overview of the distinct streaming platforms available for TV shows and movies.\n",
    "\n",
    "Code:\n",
    "```\n",
    "print(\"The categories in 'StreamingTV' are: {}\".format(df['StreamingTV'].unique()))\n",
    "print(f\"The categories in 'StreamingMovies' are: {df['StreamingMovies'].unique()}\")\n",
    "```"
   ]
  },
  {
   "cell_type": "code",
   "execution_count": 39,
   "id": "0d4f622a",
   "metadata": {},
   "outputs": [
    {
     "name": "stdout",
     "output_type": "stream",
     "text": [
      "The categories in 'StreamingTV' are: ['No' 'Yes' 'No internet service']\n",
      "The categories in 'StreamingMovies' are: ['No' 'Yes' 'No internet service']\n"
     ]
    }
   ],
   "source": [
    "print(\"The categories in 'StreamingTV' are: {}\".format(df['StreamingTV'].unique()))\n",
    "print(f\"The categories in 'StreamingMovies' are: {df['StreamingMovies'].unique()}\")"
   ]
  },
  {
   "cell_type": "markdown",
   "id": "f588d30d",
   "metadata": {},
   "source": [
    "# Handling Missing Values in Total Charges Column\n",
    "## Converting Non-Numeric Values to NaN\n",
    "\n",
    "This code block is used to handle missing values or non-numeric data in the 'TotalCharges' column of a Pandas DataFrame. The `pd.to_numeric()` function is used to convert the values in the 'TotalCharges' column to numeric, and any non-numeric values are replaced with NaN (Not a Number).\n",
    "\n",
    "**Code:**\n",
    "```\n",
    "df['TotalCharges'] = pd.to_numeric(df['TotalCharges'], errors='coerce')\n",
    "```"
   ]
  },
  {
   "cell_type": "code",
   "execution_count": 28,
   "id": "c9e6dfd9",
   "metadata": {},
   "outputs": [],
   "source": [
    "df['TotalCharges'] = pd.to_numeric(df['TotalCharges'], errors='coerce')"
   ]
  },
  {
   "cell_type": "markdown",
   "id": "54e789c5",
   "metadata": {},
   "source": [
    "# Handling Missing Values in Total Charges Column\n",
    "## Identifying the Number of Null Values\n",
    "\n",
    "The `isnull()` method is used to identify missing or null values in a pandas DataFrame. In this case, we are using it on the 'TotalCharges' column.\n",
    "\n",
    "Code:\n",
    "```\n",
    "df['TotalCharges'].isnull().sum()\n",
    "```"
   ]
  },
  {
   "cell_type": "code",
   "execution_count": 29,
   "id": "ce7fa87e",
   "metadata": {},
   "outputs": [
    {
     "data": {
      "text/plain": [
       "11"
      ]
     },
     "execution_count": 29,
     "metadata": {},
     "output_type": "execute_result"
    }
   ],
   "source": [
    "df['TotalCharges'].isnull().sum()"
   ]
  },
  {
   "cell_type": "markdown",
   "id": "0cfd9944",
   "metadata": {},
   "source": [
    "# Handling Missing Values in Pandas DataFrames\n",
    "## Replacing NaN values with Mean using fillna()\n",
    "\n",
    "The `fillna()` function is used to replace missing values (NaN) in a pandas DataFrame. In this code block, we are replacing the missing values in the 'TotalCharges' column of our DataFrame `df` with the mean value of that column.\n",
    "\n",
    "Code:\n",
    "```\n",
    "df['TotalCharges'].fillna(df['TotalCharges'].mean(), inplace=True)\n",
    "```"
   ]
  },
  {
   "cell_type": "code",
   "execution_count": 30,
   "id": "aba16141",
   "metadata": {},
   "outputs": [],
   "source": [
    "df['TotalCharges'].fillna(df['TotalCharges'].mean(), inplace=True)"
   ]
  },
  {
   "cell_type": "markdown",
   "id": "b1d72e74",
   "metadata": {},
   "source": [
    "Please provide the Python code block you'd like me to generate a markdown explanation for. I'll be happy to help!"
   ]
  },
  {
   "cell_type": "code",
   "execution_count": null,
   "id": "d2b1e86a",
   "metadata": {},
   "outputs": [
    {
     "name": "stdout",
     "output_type": "stream",
     "text": [
      "Categorical Features are: \n",
      "customerID\n",
      "gender\n",
      "Partner\n",
      "Dependents\n",
      "PhoneService\n",
      "MultipleLines\n",
      "InternetService\n",
      "OnlineSecurity\n",
      "OnlineBackup\n",
      "DeviceProtection\n",
      "TechSupport\n",
      "StreamingTV\n",
      "StreamingMovies\n",
      "Contract\n",
      "PaperlessBilling\n",
      "PaymentMethod\n",
      "Churn\n",
      "\n",
      "Numerical Features are: \n",
      "SeniorCitizen\n",
      "tenure\n",
      "MonthlyCharges\n",
      "TotalCharges\n"
     ]
    }
   ],
   "source": []
  },
  {
   "cell_type": "markdown",
   "id": "f9197d37",
   "metadata": {},
   "source": [
    "# Exploring DataFrames with Pandas\n",
    "## Understanding the Shape of a DataFrame\n",
    "\n",
    "The `shape` attribute is used to get the dimensionality of a DataFrame. It returns a tuple representing the dimensionality of the DataFrame, where the first element is the number of rows and the second element is the number of columns.\n",
    "\n",
    "Code:\n",
    "```\n",
    "df.shape\n",
    "```"
   ]
  },
  {
   "cell_type": "code",
   "execution_count": 32,
   "id": "54b76adc",
   "metadata": {},
   "outputs": [
    {
     "data": {
      "text/plain": [
       "(7043, 21)"
      ]
     },
     "execution_count": 32,
     "metadata": {},
     "output_type": "execute_result"
    }
   ],
   "source": [
    "df.shape"
   ]
  },
  {
   "cell_type": "markdown",
   "id": "da7e8125",
   "metadata": {},
   "source": [
    "# Exploring Customer Churn Analysis\n",
    "## Boxplot Visualizations for Comparing Numeric Features with Churn\n",
    "\n",
    "This code block uses the Seaborn library to create boxplots that compare three numeric features (`MonthlyCharges`, `Tenure`, and `TotalCharges`) with the target variable `Churn`. The goal is to visualize the distribution of these features across different churn categories.\n",
    "\n",
    "Code:\n",
    "```python\n",
    "import seaborn as sns\n",
    "import matplotlib.pyplot as plt\n",
    "\n",
    "# Set up the visual style\n",
    "sns.set(style=\"whitegrid\")\n",
    "\n",
    "# Create boxplots to compare numeric features with Churn\n",
    "fig, axes = plt.subplots(1, 3, figsize=(18, 5))\n",
    "\n",
    "# Plot 1: MonthlyCharges vs. Churn\n",
    "sns.boxplot(x='Churn', y='MonthlyCharges', data=df, ax=axes[0])\n",
    "axes[0].set_title('Monthly Charges vs Churn')\n",
    "axes[0].set_xlabel('Churn')\n",
    "axes[0].set_ylabel('Monthly Charges')\n",
    "\n",
    "# Plot 2: Tenure vs. Churn\n",
    "sns.boxplot(x='Churn', y='tenure', data=df, ax=axes[1])\n",
    "axes[1].set_title('Tenure vs Churn')\n",
    "axes[1].set_xlabel('Churn')\n",
    "axes[1].set_ylabel('Tenure (Months)')\n",
    "\n",
    "# Plot 3: TotalCharges vs. Churn\n",
    "sns.boxplot(x='Churn', y='TotalCharges', data=df, ax=axes[2])\n",
    "axes[2].set_title('Total Charges vs Churn')\n",
    "axes[2].set_xlabel('Churn')\n",
    "axes[2].set_ylabel('Total Charges')\n",
    "\n",
    "plt.tight_layout()\n",
    "plt.show()\n",
    "```\n",
    "This code will generate three boxplots that display the distribution of `MonthlyCharges`, `Tenure`, and `TotalCharges` for each churn category. The x-axis represents the churn status, while the y-axis shows the corresponding feature values."
   ]
  },
  {
   "cell_type": "code",
   "execution_count": 37,
   "id": "430cdf8d",
   "metadata": {},
   "outputs": [
    {
     "data": {
      "image/png": "[encoded data removed]",
      "text/plain": [
       "<Figure size 1800x500 with 3 Axes>"
      ]
     },
     "metadata": {},
     "output_type": "display_data"
    }
   ],
   "source": [
    "import seaborn as sns\n",
    "import matplotlib.pyplot as plt\n",
    "# Set up the visual style\n",
    "sns.set(style=\"whitegrid\")\n",
    "\n",
    "# Create boxplots to compare numeric features with Churn\n",
    "fig, axes = plt.subplots(1, 3, figsize=(18, 5))\n",
    "\n",
    "# Plot 1: MonthlyCharges vs. Churn\n",
    "sns.boxplot(x='Churn', y='MonthlyCharges', data=df, ax=axes[0])\n",
    "axes[0].set_title('Monthly Charges vs Churn')\n",
    "axes[0].set_xlabel('Churn')\n",
    "axes[0].set_ylabel('Monthly Charges')\n",
    "\n",
    "# Plot 2: Tenure vs. Churn\n",
    "sns.boxplot(x='Churn', y='tenure', data=df, ax=axes[1])\n",
    "axes[1].set_title('Tenure vs Churn')\n",
    "axes[1].set_xlabel('Churn')\n",
    "axes[1].set_ylabel('Tenure (Months)')\n",
    "\n",
    "# Plot 3: TotalCharges vs. Churn\n",
    "sns.boxplot(x='Churn', y='TotalCharges', data=df, ax=axes[2])\n",
    "axes[2].set_title('Total Charges vs Churn')\n",
    "axes[2].set_xlabel('Churn')\n",
    "axes[2].set_ylabel('Total Charges')\n",
    "\n",
    "plt.tight_layout()\n",
    "plt.show()"
   ]
  },
  {
   "cell_type": "markdown",
   "id": "4bdcf646",
   "metadata": {},
   "source": [
    "# Creating a Total Services Column in a Pandas DataFrame\n",
    "## Summarizing Multiple Yes/No Columns\n",
    "\n",
    "In this code block, we demonstrate how to create a new column in a Pandas DataFrame that summarizes the results of multiple yes/no columns. This is useful when you have multiple features or services that can be either available or not (e.g., phone service, online security, etc.) and you want to calculate the total number of services that are available for each row in your dataset.\n",
    "\n",
    "Code:\n",
    "```\n",
    "service_cols = [\n",
    "    'PhoneService', 'MultipleLines', 'OnlineSecurity', 'OnlineBackup',\n",
    "    'DeviceProtection', 'TechSupport', 'StreamingTV', 'StreamingMovies'\n",
    "]\n",
    "\n",
    "df['TotalServices'] = df[service_cols].apply(lambda row: sum(row == 'Yes'), axis=1)\n",
    "```"
   ]
  },
  {
   "cell_type": "code",
   "execution_count": 40,
   "id": "2830ce95",
   "metadata": {},
   "outputs": [],
   "source": [
    "service_cols = [\n",
    "    'PhoneService', 'MultipleLines', 'OnlineSecurity', 'OnlineBackup',\n",
    "    'DeviceProtection', 'TechSupport', 'StreamingTV', 'StreamingMovies'\n",
    "]\n",
    "\n",
    "df['TotalServices'] = df[service_cols].apply(lambda row: sum(row == 'Yes'), axis=1)\n"
   ]
  },
  {
   "cell_type": "markdown",
   "id": "e010e178",
   "metadata": {},
   "source": [
    "# Exploring Data Types in Pandas DataFrame\n",
    "## Identifying Categorical and Numerical Features\n",
    "\n",
    "This code block helps you understand the data types of features (columns) in a Pandas DataFrame. It identifies categorical features, which are non-numeric data types (e.g., object), and numerical features, which are numeric data types.\n",
    "\n",
    "### Code:\n",
    "\n",
    "```python\n",
    "numeric_features = [feature for feature in df.columns if df[feature].dtype != 'O']\n",
    "categorical_features = [feature for feature in df.columns if df[feature].dtype == 'O']\n",
    "print(f\"Categorical Features are: \")\n",
    "for i in categorical_features:\n",
    "    print(i)\n",
    "print(f\"\\nNumerical Features are: \")\n",
    "for i in numeric_features:\n",
    "    print(i)\n",
    "```\n",
    "\n",
    "This code uses list comprehensions to create two lists: `numeric_features` and `categorical_features`. The lists contain the column names that correspond to each data type.\n",
    "\n",
    "The first part of the code iterates over each feature (column) in the DataFrame. It checks if the data type of the feature is not 'O' (object), which corresponds to categorical features. These features are added to the `categorical_features` list.\n",
    "\n",
    "The second part of the code does the same for numerical features, but this time it checks if the data type is not 'O'. This ensures that only columns with numeric data types (e.g., int, float) are included in the `numeric_features` list.\n",
    "\n",
    "Finally, the code prints out the categorical and numerical features separately."
   ]
  },
  {
   "cell_type": "code",
   "execution_count": 41,
   "id": "18f2c24d",
   "metadata": {},
   "outputs": [
    {
     "name": "stdout",
     "output_type": "stream",
     "text": [
      "Categorical Features are: \n",
      "customerID\n",
      "gender\n",
      "Partner\n",
      "Dependents\n",
      "PhoneService\n",
      "MultipleLines\n",
      "InternetService\n",
      "OnlineSecurity\n",
      "OnlineBackup\n",
      "DeviceProtection\n",
      "TechSupport\n",
      "StreamingTV\n",
      "StreamingMovies\n",
      "Contract\n",
      "PaperlessBilling\n",
      "PaymentMethod\n",
      "Churn\n",
      "\n",
      "Numerical Features are: \n",
      "SeniorCitizen\n",
      "tenure\n",
      "MonthlyCharges\n",
      "TotalCharges\n",
      "TotalServices\n"
     ]
    }
   ],
   "source": [
    "numeric_features = [feature for feature in df.columns if df[feature].dtype != 'O']\n",
    "categorical_features = [feature for feature in df.columns if df[feature].dtype == 'O']\n",
    "print(f\"Categorical Features are: \")\n",
    "for i in categorical_features:\n",
    "    print(i)\n",
    "print(f\"\\nNumerical Features are: \")\n",
    "for i in numeric_features:\n",
    "    print(i)"
   ]
  }
 ],
 "metadata": {
  "kernelspec": {
   "display_name": "Python 3",
   "language": "python",
   "name": "python3"
  },
  "language_info": {
   "codemirror_mode": {
    "name": "ipython",
    "version": 3
   },
   "file_extension": ".py",
   "mimetype": "text/x-python",
   "name": "python",
   "nbconvert_exporter": "python",
   "pygments_lexer": "ipython3",
   "version": "3.8.20"
  }
 },
 "nbformat": 4,
 "nbformat_minor": 5
}
